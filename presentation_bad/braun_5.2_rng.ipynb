{
 "cells": [
  {
   "cell_type": "markdown",
   "metadata": {},
   "source": [
    "# Data Mining in Physics - Presentation 2. - Braun 5.2: Generation of pseudorandom numbers"
   ]
  },
  {
   "cell_type": "code",
   "execution_count": null,
   "metadata": {},
   "outputs": [],
   "source": [
    "library(microbenchmark)\n",
    "library(graphics)"
   ]
  },
  {
   "cell_type": "code",
   "execution_count": null,
   "metadata": {},
   "outputs": [],
   "source": [
    "options(jupyter.plot_scale=1.4)"
   ]
  },
  {
   "cell_type": "markdown",
   "metadata": {},
   "source": [
    "## Different types of uniform RNGs in R\n",
    "\n",
    "The most common ones are multiplicative congruential RNGs, which are able to generate random numbers $u_{0}$, $u_{1}$, $u_{2}$, etc. which seems uniform and completely random to an outside observer. In reality they're finitely cyclic and also competely predictable if the observer knows the parameters and initial condition of the RNG. These type of RNGs create random numbers by using the following simple interative method:\n",
    "\n",
    "$$\n",
    "x_{n} = b x_{n-1}\\ \\left( \\mathrm{mod}\\,m \\right)\n",
    "$$\n",
    "$$\n",
    "u_{n} = \\frac{x_{n}}{m}\n",
    "$$\n",
    "\n",
    "Where $x_{n}$ is some form of \"seed value\", while $b$ and $m$ are parameters, which determine the length of the cycle, after the numbers repeat again."
   ]
  },
  {
   "cell_type": "code",
   "execution_count": null,
   "metadata": {},
   "outputs": [],
   "source": [
    "mcrng <- function(x_n, b, m) {\n",
    "    \n",
    "    x_n = (b * x_n) %% m\n",
    "    u_n = x_n / m\n",
    "    \n",
    "    return(c(x_n, u_n))\n",
    "}"
   ]
  },
  {
   "cell_type": "markdown",
   "metadata": {},
   "source": [
    "### 1.) Trash hand-made RNG"
   ]
  },
  {
   "cell_type": "code",
   "execution_count": null,
   "metadata": {},
   "outputs": [],
   "source": [
    "# Create container for the N generated random numbers\n",
    "N = 100\n",
    "rn = numeric(N)\n",
    "# Set starting seed `x_n` for the RNG\n",
    "x_n = 2\n",
    "# Configure other parameters of the RNG\n",
    "b = 9\n",
    "m = 15\n",
    "\n",
    "# Generate N random numbers by iterating the RNG\n",
    "for (i in 1:N) {\n",
    "    xn_un = mcrng(x_n, b, m)\n",
    "    \n",
    "    # Update the seed and save generated random number\n",
    "    x_n = xn_un[1]\n",
    "    rn[i] = xn_un[2]\n",
    "}"
   ]
  },
  {
   "cell_type": "code",
   "execution_count": null,
   "metadata": {},
   "outputs": [],
   "source": [
    "plot(rn, type='n')\n",
    "points(rn,\n",
    "       bg=gray(0.8), pch=21)"
   ]
  },
  {
   "cell_type": "markdown",
   "metadata": {},
   "source": [
    "### 2.) Somewhat better hand-made RNG"
   ]
  },
  {
   "cell_type": "code",
   "execution_count": null,
   "metadata": {},
   "outputs": [],
   "source": [
    "# Create container for the N generated random numbers\n",
    "N = 2000\n",
    "rn = numeric(N)\n",
    "# Set starting seed `x_n` for the RNG\n",
    "x_n = 51351\n",
    "# Configure other parameters of the RNG\n",
    "b = 171\n",
    "m = 30269\n",
    "\n",
    "# Generate N random numbers by iterating the RNG\n",
    "for (i in 1:N) {\n",
    "    xn_un = mcrng(x_n, b, m)\n",
    "    \n",
    "    # Update the seed and save generated random number\n",
    "    x_n = xn_un[1]\n",
    "    rn[i] = xn_un[2]\n",
    "}"
   ]
  },
  {
   "cell_type": "code",
   "execution_count": null,
   "metadata": {},
   "outputs": [],
   "source": [
    "plot(rn, type='n')\n",
    "points(rn,\n",
    "       bg=gray(0.8), pch=21)"
   ]
  },
  {
   "cell_type": "markdown",
   "metadata": {},
   "source": [
    "### 3.) Superior built-in RNG\n",
    "\n",
    "`runif` : \"random uniform\""
   ]
  },
  {
   "cell_type": "code",
   "execution_count": null,
   "metadata": {},
   "outputs": [],
   "source": [
    "rn = runif(N)"
   ]
  },
  {
   "cell_type": "code",
   "execution_count": null,
   "metadata": {},
   "outputs": [],
   "source": [
    "plot(rn, type='n')\n",
    "points(rn,\n",
    "       bg=gray(0.8), pch=21)"
   ]
  },
  {
   "cell_type": "markdown",
   "metadata": {},
   "source": [
    "## Marsaglia effect"
   ]
  },
  {
   "cell_type": "markdown",
   "metadata": {},
   "source": [
    "### 1.) Built-in `runif()`"
   ]
  },
  {
   "cell_type": "code",
   "execution_count": null,
   "metadata": {},
   "outputs": [],
   "source": [
    "coords = function(N, D=3) {\n",
    "    \n",
    "    c = replicate(n=N, exp=runif(D))\n",
    "    \n",
    "    return(c)\n",
    "}"
   ]
  },
  {
   "cell_type": "code",
   "execution_count": null,
   "metadata": {},
   "outputs": [],
   "source": [
    "c = coords(1000)\n",
    "x = c[1,]\n",
    "y = c[2,]\n",
    "z = c[3,]"
   ]
  },
  {
   "cell_type": "code",
   "execution_count": null,
   "metadata": {},
   "outputs": [],
   "source": [
    "options(jupyter.plot_scale=0.8)\n",
    "layout(matrix(1:3, 1, 3, byrow = TRUE), respect = TRUE)\n",
    "par(omi=c(0,0,0,0), mar=c(2, 2, 1, 1))\n",
    "\n",
    "plot(x, y, type='n')\n",
    "points(x, y,\n",
    "       bg=gray(0.8), pch=21)\n",
    "\n",
    "plot(x, z, type='n')\n",
    "points(x, z,\n",
    "       bg=gray(0.8), pch=21)\n",
    "\n",
    "plot(y, z, type='n')\n",
    "points(y, z,\n",
    "       bg=gray(0.8), pch=21)\n",
    "\n",
    "# Restore\n",
    "par = par()\n",
    "options(jupyter.plot_scale=1.4)"
   ]
  },
  {
   "cell_type": "markdown",
   "metadata": {},
   "source": [
    "### 2.) Worse hand-made RNG"
   ]
  },
  {
   "cell_type": "code",
   "execution_count": null,
   "metadata": {},
   "outputs": [],
   "source": [
    "# Create container for the N generated random numbers\n",
    "N = 3000\n",
    "rn = numeric(N)\n",
    "# Set starting seed `x_n` for the RNG\n",
    "x_n = 51351\n",
    "# Configure other parameters of the RNG\n",
    "b = 171\n",
    "m = 30269\n",
    "\n",
    "# Generate N random numbers by iterating the RNG\n",
    "for (i in 1:N) {\n",
    "    xn_un = mcrng(x_n, b, m)\n",
    "    \n",
    "    # Update the seed and save generated random number\n",
    "    x_n = xn_un[1]\n",
    "    rn[i] = xn_un[2]\n",
    "}"
   ]
  },
  {
   "cell_type": "code",
   "execution_count": null,
   "metadata": {},
   "outputs": [],
   "source": [
    "x = rn[1:(N/3)]\n",
    "y = rn[(N/3+1):(2*N/3)]\n",
    "z = rn[(2*N/3+1):N]"
   ]
  },
  {
   "cell_type": "code",
   "execution_count": null,
   "metadata": {},
   "outputs": [],
   "source": [
    "options(jupyter.plot_scale=0.8)\n",
    "layout(matrix(1:3, 1, 3, byrow = TRUE), respect = TRUE)\n",
    "par(omi=c(0,0,0,0), mar=c(2, 2, 1, 1))\n",
    "\n",
    "plot(x, y, type='n')\n",
    "points(x, y,\n",
    "       bg=gray(0.8), pch=21)\n",
    "title(xlab=\"x\", ylab=\"y\")\n",
    "\n",
    "plot(x, z, type='n')\n",
    "points(x, z,\n",
    "       bg=gray(0.8), pch=21)\n",
    "\n",
    "plot(y, z, type='n')\n",
    "points(y, z,\n",
    "       bg=gray(0.8), pch=21)\n",
    "\n",
    "# Restore\n",
    "par = par()\n",
    "options(jupyter.plot_scale=1.4)"
   ]
  },
  {
   "cell_type": "markdown",
   "metadata": {},
   "source": [
    "### 2.) Even worse hand-made RNG"
   ]
  },
  {
   "cell_type": "code",
   "execution_count": null,
   "metadata": {},
   "outputs": [],
   "source": [
    "# Create container for the N generated random numbers\n",
    "N = 3000\n",
    "rn = numeric(N)\n",
    "# Set starting seed `x_n` for the RNG\n",
    "x_n = 1229\n",
    "# Configure other parameters of the RNG\n",
    "b = 983\n",
    "m = 2048\n",
    "\n",
    "# Generate N random numbers by iterating the RNG\n",
    "for (i in 1:N) {\n",
    "    xn_un = mcrng(x_n, b, m)\n",
    "    \n",
    "    # Update the seed and save generated random number\n",
    "    x_n = xn_un[1]\n",
    "    rn[i] = xn_un[2]\n",
    "}"
   ]
  },
  {
   "cell_type": "code",
   "execution_count": null,
   "metadata": {},
   "outputs": [],
   "source": [
    "x = rn[1:(N/3)]\n",
    "y = rn[(N/3+1):(2*N/3)]\n",
    "z = rn[(2*N/3+1):N]"
   ]
  },
  {
   "cell_type": "code",
   "execution_count": null,
   "metadata": {},
   "outputs": [],
   "source": [
    "options(jupyter.plot_scale=0.8)\n",
    "layout(matrix(1:3, 1, 3, byrow = TRUE), respect = TRUE)\n",
    "par(omi=c(0,0,0,0), mar=c(2, 2, 1, 1))\n",
    "\n",
    "plot(x, y, type='n')\n",
    "points(x, y,\n",
    "       bg=gray(0.8), pch=21)\n",
    "title(xlab=\"x\", ylab=\"y\")\n",
    "\n",
    "plot(x, z, type='n')\n",
    "points(x, z,\n",
    "       bg=gray(0.8), pch=21)\n",
    "\n",
    "plot(y, z, type='n')\n",
    "points(y, z,\n",
    "       bg=gray(0.8), pch=21)\n",
    "\n",
    "# Restore\n",
    "par = par()\n",
    "options(jupyter.plot_scale=1.4)"
   ]
  },
  {
   "cell_type": "code",
   "execution_count": null,
   "metadata": {},
   "outputs": [],
   "source": []
  },
  {
   "cell_type": "code",
   "execution_count": null,
   "metadata": {},
   "outputs": [],
   "source": []
  }
 ],
 "metadata": {
  "kernelspec": {
   "display_name": "R",
   "language": "R",
   "name": "ir"
  },
  "language_info": {
   "codemirror_mode": "r",
   "file_extension": ".r",
   "mimetype": "text/x-r-source",
   "name": "R",
   "pygments_lexer": "r",
   "version": "4.0.3"
  }
 },
 "nbformat": 4,
 "nbformat_minor": 4
}
