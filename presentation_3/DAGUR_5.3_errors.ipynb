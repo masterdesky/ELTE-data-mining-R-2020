{
 "cells": [
  {
   "cell_type": "markdown",
   "metadata": {},
   "source": [
    "# Data Mining in Physics - Presentation 3. - DAGUR 5.3: Standard errors and confidence intervals"
   ]
  },
  {
   "cell_type": "code",
   "execution_count": 1,
   "metadata": {},
   "outputs": [],
   "source": [
    "library(microbenchmark)\n",
    "library(graphics)\n",
    "library(ggplot2)"
   ]
  },
  {
   "cell_type": "code",
   "execution_count": 2,
   "metadata": {},
   "outputs": [],
   "source": [
    "options(jupyter.plot_scale=1.4)"
   ]
  },
  {
   "cell_type": "markdown",
   "metadata": {},
   "source": [
    "## 1. Load and fit the `DAAG::roller` dataset again"
   ]
  },
  {
   "cell_type": "code",
   "execution_count": 3,
   "metadata": {},
   "outputs": [],
   "source": [
    "library(lattice)\n",
    "library(DAAG)"
   ]
  },
  {
   "cell_type": "code",
   "execution_count": 4,
   "metadata": {},
   "outputs": [],
   "source": [
    "# Export the `roller` dataset from DAAG\n",
    "df = DAAG::roller\n",
    "# Extract X and y data\n",
    "x = df$weight\n",
    "y = df$depression"
   ]
  },
  {
   "cell_type": "code",
   "execution_count": 8,
   "metadata": {},
   "outputs": [
    {
     "data": {
      "text/plain": [
       "\n",
       "Call:\n",
       "lm(formula = depression ~ weight, data = df)\n",
       "\n",
       "Residuals:\n",
       "   Min     1Q Median     3Q    Max \n",
       "-8.180 -5.580 -1.346  5.920  8.020 \n",
       "\n",
       "Coefficients:\n",
       "            Estimate Std. Error t value Pr(>|t|)   \n",
       "(Intercept)  -2.0871     4.7543  -0.439  0.67227   \n",
       "weight        2.6667     0.7002   3.808  0.00518 **\n",
       "---\n",
       "Signif. codes:  0 ‘***’ 0.001 ‘**’ 0.01 ‘*’ 0.05 ‘.’ 0.1 ‘ ’ 1\n",
       "\n",
       "Residual standard error: 6.735 on 8 degrees of freedom\n",
       "Multiple R-squared:  0.6445,\tAdjusted R-squared:  0.6001 \n",
       "F-statistic:  14.5 on 1 and 8 DF,  p-value: 0.005175\n"
      ]
     },
     "metadata": {},
     "output_type": "display_data"
    }
   ],
   "source": [
    "# Fit linear model to the weight(depression) values\n",
    "roller.lm = lm(depression ~ weight, data=df)\n",
    "# Use the extractor function summary() to summarize results\n",
    "summary(roller.lm)"
   ]
  },
  {
   "cell_type": "markdown",
   "metadata": {},
   "source": [
    "## 2. Calculate confidence interval\n",
    "\n",
    "In case of linear regression:\n",
    "\\begin{equation}\n",
    "L_{\\mathrm{conf}}\n",
    "=\n",
    "b \\pm t_{97.5\\%} \\sigma_{b}\n",
    "\\end{equation}\n",
    "- $b$ : intercept \n",
    "- $t_{97.5\\%}$ : $97.5\\%$ of values of the t-distribution\n",
    "- $\\sigma_{b}$ : standard error of intercept at a given point"
   ]
  },
  {
   "cell_type": "code",
   "execution_count": 28,
   "metadata": {},
   "outputs": [
    {
     "data": {
      "text/html": [
       "<style>\n",
       ".list-inline {list-style: none; margin:0; padding: 0}\n",
       ".list-inline>li {display: inline-block}\n",
       ".list-inline>li:not(:last-child)::after {content: \"\\00b7\"; padding: 0 .5ex}\n",
       "</style>\n",
       "<ol class=list-inline><li>1.05198354559617</li><li>4.28150831030682</li></ol>\n"
      ],
      "text/latex": [
       "\\begin{enumerate*}\n",
       "\\item 1.05198354559617\n",
       "\\item 4.28150831030682\n",
       "\\end{enumerate*}\n"
      ],
      "text/markdown": [
       "1. 1.05198354559617\n",
       "2. 4.28150831030682\n",
       "\n",
       "\n"
      ],
      "text/plain": [
       "[1] 1.051984 4.281508"
      ]
     },
     "metadata": {},
     "output_type": "display_data"
    }
   ],
   "source": [
    "# Confidence interval calculations\n",
    "SEb = summary(roller.lm)$coefficients[2, 2]\n",
    "coef(roller.lm)[2] + qt(c(0.025, 0.975), 8)*SEb"
   ]
  },
  {
   "cell_type": "code",
   "execution_count": 20,
   "metadata": {},
   "outputs": [],
   "source": [
    "# Obtain fitted values and standard errors (SE, then SE.OBS)\n",
    "fit.with.se = predict(roller.lm, se.fit=TRUE)"
   ]
  },
  {
   "cell_type": "code",
   "execution_count": 21,
   "metadata": {},
   "outputs": [
    {
     "data": {
      "text/html": [
       "<style>\n",
       ".list-inline {list-style: none; margin:0; padding: 0}\n",
       ".list-inline>li {display: inline-block}\n",
       ".list-inline>li:not(:last-child)::after {content: \"\\00b7\"; padding: 0 .5ex}\n",
       "</style>\n",
       "<ol class=list-inline><li>3.61429671500812</li><li>2.97689602411349</li><li>2.88079848800014</li><li>2.30814669492721</li><li>2.19713327788986</li><li>2.1300501216435</li><li>2.14244491447087</li><li>2.38422072985421</li><li>3.37026999556495</li><li>4.91772770882295</li></ol>\n"
      ],
      "text/latex": [
       "\\begin{enumerate*}\n",
       "\\item 3.61429671500812\n",
       "\\item 2.97689602411349\n",
       "\\item 2.88079848800014\n",
       "\\item 2.30814669492721\n",
       "\\item 2.19713327788986\n",
       "\\item 2.1300501216435\n",
       "\\item 2.14244491447087\n",
       "\\item 2.38422072985421\n",
       "\\item 3.37026999556495\n",
       "\\item 4.91772770882295\n",
       "\\end{enumerate*}\n"
      ],
      "text/markdown": [
       "1. 3.61429671500812\n",
       "2. 2.97689602411349\n",
       "3. 2.88079848800014\n",
       "4. 2.30814669492721\n",
       "5. 2.19713327788986\n",
       "6. 2.1300501216435\n",
       "7. 2.14244491447087\n",
       "8. 2.38422072985421\n",
       "9. 3.37026999556495\n",
       "10. 4.91772770882295\n",
       "\n",
       "\n"
      ],
      "text/plain": [
       " [1] 3.614297 2.976896 2.880798 2.308147 2.197133 2.130050 2.142445 2.384221\n",
       " [9] 3.370270 4.917728"
      ]
     },
     "metadata": {},
     "output_type": "display_data"
    }
   ],
   "source": [
    "# SE : Standard error\n",
    "fit.with.se$se.fit"
   ]
  },
  {
   "cell_type": "code",
   "execution_count": 22,
   "metadata": {},
   "outputs": [
    {
     "data": {
      "text/html": [
       "<style>\n",
       ".list-inline {list-style: none; margin:0; padding: 0}\n",
       ".list-inline>li {display: inline-block}\n",
       ".list-inline>li:not(:last-child)::after {content: \"\\00b7\"; padding: 0 .5ex}\n",
       "</style>\n",
       "<ol class=list-inline><li>7.6439428892218</li><li>7.36400924007763</li><li>7.3256891879215</li><li>7.11999040131863</li><li>7.08478064518423</li><li>7.06426469423956</li><li>7.06801191008534</li><li>7.14501439034469</li><li>7.53162943808121</li><li>8.33971030478224</li></ol>\n"
      ],
      "text/latex": [
       "\\begin{enumerate*}\n",
       "\\item 7.6439428892218\n",
       "\\item 7.36400924007763\n",
       "\\item 7.3256891879215\n",
       "\\item 7.11999040131863\n",
       "\\item 7.08478064518423\n",
       "\\item 7.06426469423956\n",
       "\\item 7.06801191008534\n",
       "\\item 7.14501439034469\n",
       "\\item 7.53162943808121\n",
       "\\item 8.33971030478224\n",
       "\\end{enumerate*}\n"
      ],
      "text/markdown": [
       "1. 7.6439428892218\n",
       "2. 7.36400924007763\n",
       "3. 7.3256891879215\n",
       "4. 7.11999040131863\n",
       "5. 7.08478064518423\n",
       "6. 7.06426469423956\n",
       "7. 7.06801191008534\n",
       "8. 7.14501439034469\n",
       "9. 7.53162943808121\n",
       "10. 8.33971030478224\n",
       "\n",
       "\n"
      ],
      "text/plain": [
       " [1] 7.643943 7.364009 7.325689 7.119990 7.084781 7.064265 7.068012 7.145014\n",
       " [9] 7.531629 8.339710"
      ]
     },
     "metadata": {},
     "output_type": "display_data"
    }
   ],
   "source": [
    "# SE.OBS : Precision of predicting an observation\n",
    "sqrt(fit.with.se$se.fit**2+fit.with.se$residual.scale**2)"
   ]
  },
  {
   "cell_type": "code",
   "execution_count": 19,
   "metadata": {},
   "outputs": [
    {
     "data": {
      "image/png": "[encoded data removed]",
      "text/plain": [
       "plot without title"
      ]
     },
     "metadata": {
      "image/png": {
       "height": 600,
       "width": 600
      }
     },
     "output_type": "display_data"
    }
   ],
   "source": [
    "## Plot depression vs weight, with 95\\% pointwise bounds for the fitted line\n",
    "plot(depression ~ weight, data=roller,\n",
    "     xlab = \"Weight of Roller [t]\",\n",
    "     ylab = \"Depression in Lawn [mm]\", pch = 16)\n",
    "\n",
    "abline(roller.lm$coef, lty = 1)\n",
    "\n",
    "xy = data.frame(weight = pretty(roller$weight, 20))\n",
    "yhat = predict(roller.lm, newdata = xy, interval=\"confidence\")\n",
    "ci = data.frame(lower=yhat[, \"lwr\"], upper=yhat[, \"upr\"])\n",
    "lines(xy$weight, ci$lower, lty = 2, lwd=2, col=\"grey\")\n",
    "lines(xy$weight, ci$upper, lty = 2, lwd=2, col=\"grey\")"
   ]
  },
  {
   "cell_type": "code",
   "execution_count": null,
   "metadata": {},
   "outputs": [],
   "source": []
  }
 ],
 "metadata": {
  "kernelspec": {
   "display_name": "R",
   "language": "R",
   "name": "ir"
  },
  "language_info": {
   "codemirror_mode": "r",
   "file_extension": ".r",
   "mimetype": "text/x-r-source",
   "name": "R",
   "pygments_lexer": "r",
   "version": "4.0.3"
  }
 },
 "nbformat": 4,
 "nbformat_minor": 4
}
