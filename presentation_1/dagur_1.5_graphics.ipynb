{
 "cells": [
  {
   "cell_type": "markdown",
   "metadata": {},
   "source": [
    "# Data Mining in Physics - Presentation 1. - DAGUR: Graphics in R\n",
    "### Topics\n",
    "- DAGUR : 1.5\n",
    "\n",
    "### Excercies\n",
    "- DAGUR : p40 / 13"
   ]
  },
  {
   "cell_type": "markdown",
   "metadata": {},
   "source": [
    "## DAGUR 1.5 : Graphics in R\n",
    "\n",
    "This chapter focuses mostly on the library `graphics` in `R`, as well as on the package `lattice`. The first one is the most basic graphical library in `R`, and it is loaded at startup by default. The package contains the routines `plot()`, `points()`, `lines()`, `text()`, `mtext()` and `axis()`, and some more. The `lattice` library offers a different, and more specialized collection of plotting functions, also 3D support. like `densityplot()` or `wireframe()` and etc."
   ]
  },
  {
   "cell_type": "markdown",
   "metadata": {},
   "source": [
    "### Prequisites"
   ]
  },
  {
   "cell_type": "markdown",
   "metadata": {},
   "source": [
    "Use `library()` always instead of `require()`"
   ]
  },
  {
   "cell_type": "code",
   "execution_count": null,
   "metadata": {},
   "outputs": [],
   "source": [
    "library(graphics)\n",
    "library(datasets)\n",
    "library(grDevices)\n",
    "library(lattice)"
   ]
  },
  {
   "cell_type": "code",
   "execution_count": null,
   "metadata": {},
   "outputs": [],
   "source": [
    "options(jupyter.plot_scale=1.4)"
   ]
  },
  {
   "cell_type": "markdown",
   "metadata": {},
   "source": [
    "### 1.5.1 The function `plot()` and allied functions"
   ]
  },
  {
   "cell_type": "markdown",
   "metadata": {},
   "source": [
    "#### 1D Brownian motion"
   ]
  },
  {
   "cell_type": "code",
   "execution_count": null,
   "metadata": {},
   "outputs": [],
   "source": [
    "# Geneate Brownian motion in 1D\n",
    "n = 100\n",
    "x <- seq(0, n-1)\n",
    "y <- c(0, cumsum(rnorm(n-1)))"
   ]
  },
  {
   "cell_type": "code",
   "execution_count": null,
   "metadata": {},
   "outputs": [],
   "source": [
    "# par()\n",
    "# The `par()` is the most basic function, which initializes and queries\n",
    "# graphical parameters to the figures.\n",
    "mar = 0.2\n",
    "par(bg='black', fig=c(0, 1, 0, 1),\n",
    "    omi=c(mar,mar,mar,mar))\n",
    "\n",
    "# The `plot()` creates the figure, and also creates a scatterplot.\n",
    "# We need to set `ann=FALSE` and `type=\"n\"` to prevent the function creating\n",
    "# scatter points and axis labels, if we want to set them manually later.\n",
    "plot(x, y,\n",
    "     ann=FALSE, type='n')\n",
    "\n",
    "# box()\n",
    "# Sets the parameters for the box, surrounding the actual plot\n",
    "box(col=gray(0.8))\n",
    "\n",
    "# points()\n",
    "# Used Arguments:\n",
    "# - `bg` : (\"background\") sets the facecolor for the point collection\n",
    "#   (if supported by the choosen char by `pch`)\n",
    "# - 'pch' : (\"point character\") sets the character used for the point.\n",
    "#   It can be any ASCII character (probably, I don't know what's in the list)\n",
    "points(x, y,\n",
    "       bg=gray(0.8), pch=21)\n",
    "\n",
    "# lines()\n",
    "# Draws a line collection between XY nodes\n",
    "lines(x, y, col=gray(0.8))\n",
    "\n",
    "# abline()\n",
    "# Draws a line over the graph, defined by `h` and `v` parameters\n",
    "# Should be used as:\n",
    "# abline(a=NULL, b=NULL, h=NULL, v=NULL)\n",
    "# - `a` : the intercept (b) of the line in y=mx+b\n",
    "# - `b` : the slope (m) of the line in y=mx+b\n",
    "# - `h` : (\"horizontal\") the horizontal intercept position of the line\n",
    "# - `v` : (\"vertical\") the vertical intercept position of the line\n",
    "abline(h=0, col=gray(0.6))\n",
    "abline(h=mean(y), col='mediumorchid')\n",
    "abline(h=sd(y), col='lightgoldenrod1')\n",
    "\n",
    "# text()\n",
    "# Writes text on the image\n",
    "text(x=90, y=mean(y),\n",
    "     col='mediumorchid', pos=3, labels='mean')\n",
    "text(x=90, y=sd(y),\n",
    "     col='lightgoldenrod1', pos=1, labels='std')\n",
    "\n",
    "# legend()\n",
    "# Draws a legend on the image to the given coordinate or spot\n",
    "legend(\"bottomleft\", legend=c('mean', 'std'), lty=c(1,1), lwd=c(2,2),\n",
    "       col=c('mediumorchid', 'lightgoldenrod1'), text.col='white')\n",
    "\n",
    "# mtext()\n",
    "# Writes text in the margin\n",
    "mtext('Made by Balázs PÁL',\n",
    "      col=grey(0.8), side=1, line=4, adj=-0.1)\n",
    "\n",
    "# axis()\n",
    "# Sets the parameters for the axis ticks, and axis\n",
    "axis(1, col=gray(0.8), col.ticks=gray(0.8), col.axis=gray(0.8), cex.axis=1.5)\n",
    "axis(2, col=gray(0.8), col.ticks=gray(0.8), col.axis=gray(0.8), cex.axis=1.5)\n",
    "\n",
    "# grid()\n",
    "# Obsiously sets the style of the gridlines on the plot\n",
    "grid(nx=NULL, ny=NULL, lty=3, col=grey(0.6))\n",
    "\n",
    "# title()\n",
    "# Sets and formats the title and axis labels of the figure\n",
    "title(main='Some 1D Brownian motion',\n",
    "      col.main='lightgoldenrodyellow', cex.main=1.8, font.main=2) \n",
    "title(xlab='Time [s]', ylab='Distance [m * 1e-06]',\n",
    "      col.lab='white', cex.lab=1.5, font.lab=2)"
   ]
  },
  {
   "cell_type": "markdown",
   "metadata": {},
   "source": [
    "#### 2D Brownian motion"
   ]
  },
  {
   "cell_type": "code",
   "execution_count": null,
   "metadata": {},
   "outputs": [],
   "source": [
    "# Geneate Brownian motion in 2D\n",
    "n = 100\n",
    "x <- c(0,cumsum(rnorm(n)))\n",
    "y <- c(0,cumsum(rnorm(n)))"
   ]
  },
  {
   "cell_type": "code",
   "execution_count": null,
   "metadata": {},
   "outputs": [],
   "source": [
    "# par()\n",
    "# The `par()` is one of the most basic function, which initializes and queries\n",
    "# graphical parameters to the figures.\n",
    "mar = 0.2\n",
    "par(bg='black', fig=c(0, 1, 0, 1),\n",
    "    omi=c(mar,mar,mar,mar))\n",
    "\n",
    "# plot()\n",
    "# The `plot()` creates the figure, and also creates a scatterplot.\n",
    "# We need to set `ann=FALSE` and `type=\"n\"` to prevent the function creating\n",
    "# scatter points and axis labels, if we want to set them manually later.\n",
    "plot(x, y,\n",
    "     ann=FALSE, type='n')\n",
    "\n",
    "# box()\n",
    "# Sets the parameters for the box, surrounding the actual plot\n",
    "box(col=gray(0.8))\n",
    "\n",
    "# points()\n",
    "# Used Arguments:\n",
    "# - `bg` : (\"background\") sets the facecolor for the point collection\n",
    "#   (if supported by the choosen char by `pch`)\n",
    "# - 'pch' : (\"point character\") sets the character used for the point.\n",
    "#   It can be any ASCII character (probably, I don't know what's in the list)\n",
    "points(x, y,\n",
    "       bg='grey', pch=21)\n",
    "\n",
    "# lines()\n",
    "# Draws a line collection between XY nodes\n",
    "lines(x, y, col=gray(0.8))\n",
    "lines(c(x[1], tail(x, n=1)), c(y[1], tail(y, n=1)), col='red')\n",
    "\n",
    "# legend()\n",
    "# Draws a legend on the image to the given coordinate or spot\n",
    "legend(\"topleft\", legend='Displacement', lty=1, lwd=2,\n",
    "       col='red', text.col='white')\n",
    "\n",
    "# mtext()\n",
    "# Writes text in the margin\n",
    "mtext('Made by Balázs PÁL',\n",
    "      col=grey(0.8), side=1, line=4, adj=-0.1)\n",
    "\n",
    "# axis()\n",
    "# Sets the parameters for the axis ticks, and axis\n",
    "axis(1, col=gray(0.8), col.ticks=gray(0.8), col.axis=gray(0.8), cex.axis=1.5)\n",
    "axis(2, col=gray(0.8), col.ticks=gray(0.8), col.axis=gray(0.8), cex.axis=1.5)\n",
    "\n",
    "# grid()\n",
    "# Obsiously sets the style of the gridlines on the plot\n",
    "grid(nx=NULL, ny=NULL, lty=3, col=grey(0.6))\n",
    "\n",
    "# title()\n",
    "# Sets and formats the title and axis labels of the figure\n",
    "title(main='Some 2D Brownian motion',\n",
    "      col.main='lightgoldenrodyellow', cex.main=1.8, font.main=2) \n",
    "title(xlab='Distance X', ylab='Distance Y',\n",
    "      col.lab='white', cex.lab=1.5, font.lab=2)"
   ]
  },
  {
   "cell_type": "markdown",
   "metadata": {},
   "source": [
    "## Domain coloring test"
   ]
  },
  {
   "cell_type": "code",
   "execution_count": null,
   "metadata": {},
   "outputs": [],
   "source": [
    "complex_func <- function(z) {\n",
    "    \n",
    "    zz = (z - 2)^2 * (z + 1 - 2i) * (z + 2 - 2i) / z^3\n",
    "    return(zz)\n",
    "}"
   ]
  },
  {
   "cell_type": "code",
   "execution_count": null,
   "metadata": {},
   "outputs": [],
   "source": [
    "create_domain <- function(xy, N) {\n",
    "    \n",
    "    c <- seq(from=-xy, to=xy, length.out=N)\n",
    "    X <- matrix(rep(c, N), ncol=N, byrow=TRUE)\n",
    "    Y <- matrix(rep(c, N), nrow=N, byrow=FALSE) * 1i\n",
    "    \n",
    "    return(X+rev(Y))\n",
    "}\n",
    "normalize <- function(arr) {\n",
    "    return((arr - min(arr)) / (max(arr) - min(arr)))\n",
    "}\n",
    "calc_params <- function(zz) {\n",
    "    # Length of z\n",
    "    r <- abs(zz)\n",
    "    # Argument of z\n",
    "    arg <- normalize(Arg(zz) %% (2 * pi))\n",
    "    # Create logarithmic mask of z\n",
    "    mask <- normalize(log2(r) %% 1)\n",
    "    \n",
    "    return(list('arg'=arg, 'mask'=mask))\n",
    "}"
   ]
  },
  {
   "cell_type": "code",
   "execution_count": null,
   "metadata": {},
   "outputs": [],
   "source": [
    "# Create domain for plot\n",
    "z <- create_domain(xy=3, N=2000)\n",
    "# Calculate function values\n",
    "zz <- complex_func(z)"
   ]
  },
  {
   "cell_type": "code",
   "execution_count": null,
   "metadata": {},
   "outputs": [],
   "source": [
    "params <- calc_params(zz)\n",
    "arg = params$arg\n",
    "mask = params$mask"
   ]
  },
  {
   "cell_type": "code",
   "execution_count": null,
   "metadata": {},
   "outputs": [],
   "source": [
    "image(arg+mask)\n",
    "\n",
    "title(xlab='Im(z)', ylab='Re(z)')"
   ]
  },
  {
   "cell_type": "markdown",
   "metadata": {},
   "source": [
    "### 1.5.2 The use of color\n",
    "\n",
    "There are 8 default colors are defined in R `graphics`:"
   ]
  },
  {
   "cell_type": "code",
   "execution_count": null,
   "metadata": {},
   "outputs": [],
   "source": [
    "theta <- (1:50)*0.92\n",
    "plot(theta, sin(theta), col=1:50, pch=16, cex=4)\n",
    "points(theta, cos(theta), col=51:100, pch=15, cex=4)"
   ]
  },
  {
   "cell_type": "markdown",
   "metadata": {},
   "source": [
    "The `colors()` function can be used to plot all 657 different color aliases."
   ]
  },
  {
   "cell_type": "markdown",
   "metadata": {},
   "source": [
    "### 1.5.3 The importance of aspect ratio"
   ]
  },
  {
   "cell_type": "code",
   "execution_count": null,
   "metadata": {},
   "outputs": [],
   "source": [
    "## Plot sin(theta) vs theta, at regularly spaced values of theta\n",
    "## sin() expects angles to be in radians\n",
    "# multiply angles in degrees by pi/180 to get radians\n",
    "plot((0:20)*pi/10, sin((0:20)*pi/10))"
   ]
  },
  {
   "cell_type": "code",
   "execution_count": null,
   "metadata": {},
   "outputs": [],
   "source": [
    "plot((1:50)*0.92, sin((1:50)*0.92))"
   ]
  },
  {
   "cell_type": "code",
   "execution_count": null,
   "metadata": {},
   "outputs": [],
   "source": [
    "par(fig=c(0,1,0.35,0.7))\n",
    "\n",
    "plot((1:50)*0.92, sin((1:50)*0.92))"
   ]
  },
  {
   "cell_type": "markdown",
   "metadata": {},
   "source": [
    "### 1.5.4 Dimensions and other settings for graphics devices\n",
    "\n",
    "Pretty irrelevant."
   ]
  },
  {
   "cell_type": "markdown",
   "metadata": {},
   "source": [
    "### 1.5.5 The plotting of expressions and mathematical symbols\n",
    "\n",
    "Using `symbols()` and `expression()`."
   ]
  },
  {
   "cell_type": "code",
   "execution_count": null,
   "metadata": {},
   "outputs": [],
   "source": [
    "# inches=FALSE ensures that radius is in x-axis units\n",
    "symbols(x=1.5, y=0, circles=1.2, xlim=c(0,3), ylim=c(-1.5,1.5), bg=\"gray\", inches=FALSE)\n",
    "\n",
    "# Use ’==’ to insert ’=’.\n",
    "# Text or symbols that appear either side of ’*’ are juxtaposed.\n",
    "# Notice the use of phantom(\"’\") to insert a small space.\n",
    "text(1.5, 0.5, expression(\"Area\" == pi*phantom(\"’\")*italic(r)^2))"
   ]
  },
  {
   "cell_type": "markdown",
   "metadata": {},
   "source": [
    "### 1.5.7 Plot methods for objects other than vectors"
   ]
  },
  {
   "cell_type": "markdown",
   "metadata": {},
   "source": [
    "See below"
   ]
  },
  {
   "cell_type": "markdown",
   "metadata": {},
   "source": [
    "### 1.5.8 Lattice (trellis) graphics"
   ]
  },
  {
   "cell_type": "code",
   "execution_count": null,
   "metadata": {},
   "outputs": [],
   "source": [
    "library(lattice)\n",
    "library(DAAG)"
   ]
  },
  {
   "cell_type": "code",
   "execution_count": null,
   "metadata": {},
   "outputs": [],
   "source": [
    "# base graphics\n",
    "plot(Brainwt ~ Bodywt, data=primates)\n",
    "\n",
    "# lattice\n",
    "xyplot(Brainwt ~ Bodywt, data=primates)"
   ]
  },
  {
   "cell_type": "markdown",
   "metadata": {},
   "source": [
    "## Exercises"
   ]
  },
  {
   "cell_type": "markdown",
   "metadata": {},
   "source": [
    "### DAGUR p40 / 13\n",
    "\n",
    "The following plots four different transformations of the `Animals` data from the *MASS* package. What different aspects of the data do these different graphs emphasize? Consider the effect on low values of the variables, as contrasted with the effect on high values."
   ]
  },
  {
   "cell_type": "code",
   "execution_count": null,
   "metadata": {},
   "outputs": [],
   "source": [
    "library(MASS)"
   ]
  },
  {
   "cell_type": "markdown",
   "metadata": {},
   "source": [
    "From the *MASS* package I'm using here the `Animals` dataset, which contains the following columns:\n",
    "\n",
    "- `body` : body weight in kg\n",
    "- `brain` : brain weight in kg"
   ]
  },
  {
   "cell_type": "code",
   "execution_count": null,
   "metadata": {},
   "outputs": [],
   "source": [
    "# 2 by 2 layout on the page\n",
    "par(mfrow=c(2,2),\n",
    "    cex.lab=1.3, font.lab=2)\n",
    "\n",
    "plot(brain ~ body, data=Animals, ann=FALSE)\n",
    "title(xlab='m_Body [kg]', ylab='m_Brain [kg]')\n",
    "\n",
    "plot(sqrt(brain) ~ sqrt(body), data=Animals, ann=FALSE)\n",
    "title(xlab='sqrt(m_Body) [kg]', ylab='sqrt(m_Brain) [kg]')\n",
    "\n",
    "plot(I(brain**0.1) ~ I(body**0.1), data=Animals, ann=FALSE) # I() forces its argument to be treated \"as is\"\n",
    "title(xlab='log(m_Body^(0.1)) [kg]', ylab='log(m_Brain^(0.1)) [kg]')\n",
    "\n",
    "plot(log(brain) ~ log(body), data=Animals, ann=FALSE)\n",
    "title(xlab='log(m_Body) [kg]', ylab='log(m_Brain) [kg]')\n",
    "\n",
    "# Restore figure parameters (useless in Jup. kernel)\n",
    "par(mfrow=c(1,1),\n",
    "    cex.lab=1, font.lab=1)"
   ]
  },
  {
   "cell_type": "markdown",
   "metadata": {},
   "source": [
    "The plots wants to emphasize the strong logarithmic correaltion between the body weight and brain weight variables."
   ]
  },
  {
   "cell_type": "code",
   "execution_count": null,
   "metadata": {},
   "outputs": [],
   "source": [
    "demo(graphics)"
   ]
  },
  {
   "cell_type": "markdown",
   "metadata": {},
   "source": [
    "## Graphics demos"
   ]
  },
  {
   "cell_type": "markdown",
   "metadata": {},
   "source": [
    "### 1. Basic usage of `plot()`\n",
    "#### Description in demo:\n",
    "Here is some code which illustrates some of the differences between R and S graphics capabilities. Note that colors are generally specified by a character string name (taken from the X11 rgb.txt file) and that line textures are given similarly.  The parameter \"bg\" sets the background parameter for the plot and there is also an \"fg\" parameter which sets the foreground color."
   ]
  },
  {
   "cell_type": "code",
   "execution_count": null,
   "metadata": {},
   "outputs": [],
   "source": [
    "x <- stats::rnorm(50)\n",
    "opar <- par(bg = \"white\")\n",
    "\n",
    "plot(x, ann = FALSE, type = \"n\")\n",
    "abline(h = 0, col = gray(.90))\n",
    "\n",
    "lines(x, col = \"green4\", lty = \"dotted\")\n",
    "points(x, bg = \"limegreen\", pch = 21)\n",
    "\n",
    "title(main = \"Simple Use of Color In a Plot\",\n",
    "      xlab = \"Just a Whisper of a Label\",\n",
    "      col.main = \"blue\", col.lab = gray(.8),\n",
    "      cex.main = 1.2, cex.lab = 1.0, font.main = 4, font.lab = 3)"
   ]
  },
  {
   "cell_type": "markdown",
   "metadata": {},
   "source": [
    "### 2. Color wheel\n",
    "#### Description in demo:\n",
    "A little color wheel. This code just plots equally spaced hues in a pie chart. If you have a cheap SVGA monitor (like me) you will probably find that numerically equispaced does not mean visually equispaced. On my display at home, these colors tend to cluster at the RGB primaries. On the other hand on the SGI Indy at work the effect is near perfect."
   ]
  },
  {
   "cell_type": "code",
   "execution_count": null,
   "metadata": {},
   "outputs": [],
   "source": [
    "par(bg = \"gray\")\n",
    "\n",
    "pie(rep(1,24), col = rainbow(24), radius = 0.9)\n",
    "\n",
    "title(main = \"A Sample Color Wheel\", cex.main = 1.4, font.main = 3)\n",
    "\n",
    "title(xlab = \"(Use this as a test of monitor linearity)\",\n",
    "      cex.lab = 0.8, font.lab = 3)"
   ]
  },
  {
   "cell_type": "markdown",
   "metadata": {},
   "source": [
    "### 3. Pie chart\n",
    "#### Description in demo:\n",
    "We have already confessed to having these. This is just showing off X11 color names (and the example (from the postscript manual) is pretty \"cute\"."
   ]
  },
  {
   "cell_type": "code",
   "execution_count": null,
   "metadata": {},
   "outputs": [],
   "source": [
    "pie.sales <- c(0.12, 0.3, 0.26, 0.16, 0.04, 0.12)\n",
    "\n",
    "names(pie.sales) <- c(\"Blueberry\", \"Cherry\",\n",
    "                      \"Apple\", \"Boston Cream\", \"Other\", \"Vanilla Cream\")\n",
    "\n",
    "pie(pie.sales,\n",
    "    col = c(\"purple\",\"violetred1\",\"green3\",\"cornsilk\",\"cyan\",\"white\"))\n",
    "\n",
    "\n",
    "title(main = \"January Pie Sales\", cex.main = 1.8, font.main = 1)\n",
    "\n",
    "title(xlab = \"(Don't try this at home kids)\", cex.lab = 0.8, font.lab = 3)"
   ]
  },
  {
   "cell_type": "markdown",
   "metadata": {},
   "source": [
    "### 4. Boxplots\n",
    "#### Description in demo:\n",
    "Boxplots: I couldn't resist the capability for filling the \"box\". The use of color seems like a useful addition, it focuses attention on the central bulk of the data."
   ]
  },
  {
   "cell_type": "code",
   "execution_count": null,
   "metadata": {},
   "outputs": [],
   "source": [
    "par(bg=\"cornsilk\")\n",
    "\n",
    "n <- 10\n",
    "g <- gl(n, 100, n*100)\n",
    "x <- rnorm(n*100) + sqrt(as.numeric(g))\n",
    "\n",
    "boxplot(split(x,g), col=\"lavender\", notch=TRUE)\n",
    "title(main=\"Notched Boxplots\", xlab=\"Group\", font.main=4, font.lab=1)"
   ]
  },
  {
   "cell_type": "markdown",
   "metadata": {},
   "source": [
    "### 5. Filling between curves with Brownian motion\n",
    "#### Description in demo:\n",
    "An example showing how to fill between curves."
   ]
  },
  {
   "cell_type": "code",
   "execution_count": null,
   "metadata": {},
   "outputs": [],
   "source": [
    "par(bg=\"white\")\n",
    "\n",
    "n <- 100\n",
    "x <- c(0,cumsum(rnorm(n)))\n",
    "y <- c(0,cumsum(rnorm(n)))\n",
    "\n",
    "xx <- c(0:n, n:0)\n",
    "yy <- c(x, rev(y))\n",
    "\n",
    "plot(xx, yy, type=\"n\", xlab=\"Time\", ylab=\"Distance\")\n",
    "polygon(xx, yy, col=\"gray\")\n",
    "\n",
    "title(\"Distance Between Brownian Motions\")"
   ]
  },
  {
   "cell_type": "markdown",
   "metadata": {},
   "source": [
    "### 6. Colored margings\n",
    "#### Description in demo:\n",
    "Colored plot margins, axis labels and titles. You do need to be careful with these kinds of effects. It's easy to go completely over the top and you can end up with your lunch all over the keyboard. On the other hand, my market research clients love it."
   ]
  },
  {
   "cell_type": "code",
   "execution_count": null,
   "metadata": {},
   "outputs": [],
   "source": [
    "x <- c(0.00, 0.40, 0.86, 0.85, 0.69, 0.48, 0.54, 1.09, 1.11, 1.73, 2.05, 2.02)\n",
    "\n",
    "par(bg=\"lightgray\")\n",
    "\n",
    "plot(x, type=\"n\", axes=FALSE, ann=FALSE)\n",
    "\n",
    "usr <- par(\"usr\")\n",
    "rect(usr[1], usr[3], usr[2], usr[4], col=\"cornsilk\", border=\"black\")\n",
    "\n",
    "lines(x, col=\"blue\")\n",
    "points(x, pch=21, bg=\"lightcyan\", cex=1.25)\n",
    "\n",
    "axis(2, col.axis=\"blue\", las=1)\n",
    "axis(1, at=1:12, lab=month.abb, col.axis=\"blue\")\n",
    "\n",
    "box()\n",
    "\n",
    "title(main=\"The Level of Interest in R\", font.main=4, col.main=\"red\")\n",
    "title(xlab=\"1996\", col.lab=\"red\")"
   ]
  },
  {
   "cell_type": "markdown",
   "metadata": {},
   "source": [
    "### 7. Histogram\n",
    "#### Description in demo:\n",
    "A filled histogram, showing how to change the font used for the main title without changing the other annotation."
   ]
  },
  {
   "cell_type": "code",
   "execution_count": null,
   "metadata": {},
   "outputs": [],
   "source": [
    "par(bg=\"cornsilk\")\n",
    "\n",
    "x <- rnorm(1000)\n",
    "hist(x, xlim=range(-4, 4, x), col=\"lavender\", main=\"\")\n",
    "\n",
    "title(main=\"1000 Normal Random Variates\", font.main=3)"
   ]
  },
  {
   "cell_type": "markdown",
   "metadata": {},
   "source": [
    "### 8. Scatterplot Matrix with Iris\n",
    "#### Description in demo:\n",
    "A scatterplot matrix. The good old Iris data (yet again)"
   ]
  },
  {
   "cell_type": "code",
   "execution_count": null,
   "metadata": {},
   "outputs": [],
   "source": [
    "pairs(iris[1:4], main=\"Edgar Anderson's Iris Data\", font.main=4, pch=19)"
   ]
  },
  {
   "cell_type": "code",
   "execution_count": null,
   "metadata": {},
   "outputs": [],
   "source": [
    "pairs(iris[1:4], main=\"Edgar Anderson's Iris Data\", pch=21,\n",
    "      bg = c(\"red\", \"green3\", \"blue\")[unclass(iris$Species)])"
   ]
  },
  {
   "cell_type": "markdown",
   "metadata": {},
   "source": [
    "### 9. Contour plotting\n",
    "#### Description in demo:\n",
    "Contour plotting. This produces a topographic map of one of Auckland's many volcanic \"peaks\"."
   ]
  },
  {
   "cell_type": "code",
   "execution_count": null,
   "metadata": {},
   "outputs": [],
   "source": [
    "x <- 10*1:nrow(volcano)\n",
    "y <- 10*1:ncol(volcano)\n",
    "lev <- pretty(range(volcano), 10)\n",
    "\n",
    "par(bg = \"lightcyan\")\n",
    "pin <- par(\"pin\")\n",
    "\n",
    "xdelta <- diff(range(x))\n",
    "ydelta <- diff(range(y))\n",
    "\n",
    "xscale <- pin[1]/xdelta\n",
    "yscale <- pin[2]/ydelta\n",
    "scale <- min(xscale, yscale)\n",
    "\n",
    "xadd <- 0.5*(pin[1]/scale - xdelta)\n",
    "yadd <- 0.5*(pin[2]/scale - ydelta)\n",
    "\n",
    "plot(numeric(0), numeric(0),\n",
    "     xlim = range(x)+c(-1,1)*xadd, ylim = range(y)+c(-1,1)*yadd,\n",
    "     type = \"n\", ann = FALSE)\n",
    "\n",
    "usr <- par(\"usr\")\n",
    "rect(usr[1], usr[3], usr[2], usr[4], col=\"green3\")\n",
    "\n",
    "contour(x, y, volcano, levels = lev, col=\"yellow\", lty=\"solid\", add=TRUE)\n",
    "\n",
    "box()\n",
    "\n",
    "title(\"A Topographic Map of Maunga Whau\", font= 4)\n",
    "\n",
    "title(xlab = \"Meters North\", ylab = \"Meters West\", font= 3)\n",
    "\n",
    "mtext(\"10 Meter Contour Spacing\", side=3, line=0.35, outer=FALSE,\n",
    "      at = mean(par(\"usr\")[1:2]), cex=0.7, font=3)"
   ]
  },
  {
   "cell_type": "markdown",
   "metadata": {},
   "source": [
    "### 10. Conditioning plots\n",
    "#### Description in demo:\n",
    "Conditioning plots."
   ]
  },
  {
   "cell_type": "code",
   "execution_count": null,
   "metadata": {},
   "outputs": [],
   "source": [
    "par(bg=\"cornsilk\")\n",
    "\n",
    "coplot(lat ~ long | depth, data = quakes, pch = 21, bg = \"green3\")\n",
    "\n",
    "par(opar)"
   ]
  },
  {
   "cell_type": "code",
   "execution_count": null,
   "metadata": {},
   "outputs": [],
   "source": []
  }
 ],
 "metadata": {
  "kernelspec": {
   "display_name": "R",
   "language": "R",
   "name": "ir"
  },
  "language_info": {
   "codemirror_mode": "r",
   "file_extension": ".r",
   "mimetype": "text/x-r-source",
   "name": "R",
   "pygments_lexer": "r",
   "version": "4.0.3"
  }
 },
 "nbformat": 4,
 "nbformat_minor": 4
}
