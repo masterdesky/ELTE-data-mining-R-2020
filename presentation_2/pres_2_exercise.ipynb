{
 "cells": [
  {
   "cell_type": "markdown",
   "metadata": {},
   "source": [
    "# Data Mining in Physics - Exercise 2. - DAGUR : p168 / 7\n",
    "\n",
    "## Exercise\n",
    "#### \"*Annotate the code that gives panels B and D of Figure 5.3, explaining what each function does, and what the function arguments are.*\""
   ]
  },
  {
   "cell_type": "code",
   "execution_count": null,
   "metadata": {},
   "outputs": [],
   "source": [
    "library(lattice)\n",
    "library(DAAG)"
   ]
  },
  {
   "cell_type": "code",
   "execution_count": null,
   "metadata": {},
   "outputs": [],
   "source": [
    "options(jupyter.plot_scale=1)"
   ]
  },
  {
   "cell_type": "code",
   "execution_count": null,
   "metadata": {},
   "outputs": [],
   "source": [
    "par(mfrow=c(2,2))\n",
    "\n",
    "## Panel A: chemical vs magnetic (Data frame ironslag from DAAG)\n",
    "plot(chemical ~ magnetic, data=ironslag)                         # Display the data\n",
    "ironslag.lm <- lm(chemical ~ magnetic, data=ironslag)            # Fit linear model\n",
    "abline(ironslag.lm)                                              # Draw the fitted line on the graph\n",
    "# Here the lowess() performs the LOWESS smoothing on the input\n",
    "# curve. The parameter \"f\" is the smoother span.\n",
    "# This gives the proportion of points in the plot which influence\n",
    "# the smooth at each value. Larger values give more smoothness.\n",
    "with(ironslag, lines(lowess(chemical ~ magnetic, f=.9), lty=2))  # Plot the lowess smooth fit\n",
    "\n",
    "## Panel B: Residuals from straight line fit, vs magnetic\n",
    "res <- residuals(ironslag.lm)                                    # Extract the residuals from the linear fit\n",
    "plot(res ~ magnetic, ylab=\"Residual\", data=ironslag)             # Plot the residuals\n",
    "with(ironslag, lines(lowess(res ~ magnetic, f=.9), lty=2))       # Plot the lowess smooth fit\n",
    "\n",
    "## Panel C: Observed vs predicted\n",
    "yhat <- fitted(ironslag.lm)                                      # \n",
    "plot(chemical ~ yhat, data=ironslag,\n",
    "     xlab=\"Predicted chemical\", ylab=\"Chemical\")                 # Plot\n",
    "with(ironslag, lines(lowess(chemical ~ yhat, f=.9), lty=2))\n",
    "\n",
    "## Panel D: Check whether error variance seems constant\n",
    "# Calculates the sqrt of the abs value of the residuals\n",
    "sqrtabs <- sqrt(abs(res))\n",
    "plot(sqrtabs ~ yhat, data=ironslag, xlab = \"Predicted chemical\",\n",
    "ylab = expression(sqrt(abs(residual))), type = \"n\")\n",
    "panel.smooth(yhat, sqrtabs, span = 0.95)"
   ]
  },
  {
   "cell_type": "code",
   "execution_count": null,
   "metadata": {},
   "outputs": [],
   "source": []
  }
 ],
 "metadata": {
  "kernelspec": {
   "display_name": "R",
   "language": "R",
   "name": "ir"
  },
  "language_info": {
   "codemirror_mode": "r",
   "file_extension": ".r",
   "mimetype": "text/x-r-source",
   "name": "R",
   "pygments_lexer": "r",
   "version": "4.0.3"
  }
 },
 "nbformat": 4,
 "nbformat_minor": 4
}
