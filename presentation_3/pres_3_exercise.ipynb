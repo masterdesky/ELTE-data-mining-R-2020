{
 "cells": [
  {
   "cell_type": "markdown",
   "metadata": {},
   "source": [
    "# Data Mining in Physics - Exercise 3. - DAGUR : p167 / 3"
   ]
  },
  {
   "cell_type": "code",
   "execution_count": null,
   "metadata": {},
   "outputs": [],
   "source": [
    "options(jupyter.plot_scale=1.4)"
   ]
  },
  {
   "cell_type": "code",
   "execution_count": null,
   "metadata": {},
   "outputs": [],
   "source": [
    "library(datasets)"
   ]
  },
  {
   "cell_type": "code",
   "execution_count": null,
   "metadata": {},
   "outputs": [],
   "source": [
    "df = cars\n",
    "x = df$speed\n",
    "y = df$dist\n",
    "\n",
    "head(df)"
   ]
  },
  {
   "cell_type": "markdown",
   "metadata": {},
   "source": [
    "## 1. Fit linear model"
   ]
  },
  {
   "cell_type": "code",
   "execution_count": null,
   "metadata": {},
   "outputs": [],
   "source": [
    "# Fit linear model on `cars` dataset\n",
    "cars.lm = lm(dist ~ speed, data=df)\n",
    "# Print summary\n",
    "summary(cars.lm)"
   ]
  },
  {
   "cell_type": "code",
   "execution_count": null,
   "metadata": {},
   "outputs": [],
   "source": [
    "anova(cars.lm)"
   ]
  },
  {
   "cell_type": "code",
   "execution_count": null,
   "metadata": {},
   "outputs": [],
   "source": [
    "par(mfrow=c(2,2))\n",
    "\n",
    "plot(cars.lm, which=1:4)\n",
    "# By default, plots 1:3 and 5 [which=c(1:3,5)] are given\n",
    "par(mfrow=c(1,1))"
   ]
  },
  {
   "cell_type": "code",
   "execution_count": null,
   "metadata": {},
   "outputs": [],
   "source": [
    "# Confidence interval calculations\n",
    "SEb = summary(cars.lm)$coefficients[2, 2]\n",
    "coef(cars.lm)[2] + qt(c(0.025, 0.975), length(x))*SEb"
   ]
  },
  {
   "cell_type": "code",
   "execution_count": null,
   "metadata": {},
   "outputs": [],
   "source": [
    "# Obtain fitted values and standard errors (SE, then SE.OBS)\n",
    "fit.with.se = predict(cars.lm, se.fit=TRUE)"
   ]
  },
  {
   "cell_type": "code",
   "execution_count": null,
   "metadata": {},
   "outputs": [],
   "source": [
    "# SE : Standard error\n",
    "fit.with.se$se.fit"
   ]
  },
  {
   "cell_type": "code",
   "execution_count": null,
   "metadata": {},
   "outputs": [],
   "source": [
    "# SE.OBS : Precision of predicting an observation\n",
    "sqrt(fit.with.se$se.fit**2+fit.with.se$residual.scale**2)"
   ]
  },
  {
   "cell_type": "code",
   "execution_count": null,
   "metadata": {},
   "outputs": [],
   "source": [
    "# Plot sale price vs floor area, with 95\\% pointwise bounds for the fitted line\n",
    "plot(dist ~ speed, data=cars,\n",
    "     xlab = \"Speed\",\n",
    "     ylab = \"Stop distance\", pch = 16)\n",
    "\n",
    "abline(cars.lm, lty = 2, col='red')\n",
    "\n",
    "xy = data.frame(speed = pretty(cars$speed, 20))\n",
    "yhat = predict(cars.lm, newdata = xy, interval=\"confidence\")\n",
    "ci = data.frame(lower=yhat[, \"lwr\"], upper=yhat[, \"upr\"])\n",
    "lines(xy$speed, ci$lower, lty = 2, lwd=2, col=\"grey\")\n",
    "lines(xy$speed, ci$upper, lty = 2, lwd=2, col=\"grey\")"
   ]
  },
  {
   "cell_type": "markdown",
   "metadata": {},
   "source": [
    "## 2. Fit polynomial model"
   ]
  },
  {
   "cell_type": "code",
   "execution_count": null,
   "metadata": {},
   "outputs": [],
   "source": [
    "# Fit a quadratic curve\n",
    "cars.poly = lm(dist ~ poly(speed,2,raw=TRUE), data=df)\n",
    "summary(cars.poly)"
   ]
  },
  {
   "cell_type": "code",
   "execution_count": null,
   "metadata": {},
   "outputs": [],
   "source": [
    "par(mfrow=c(2,2))\n",
    "\n",
    "plot(cars.poly, which=1:4)\n",
    "# By default, plots 1:3 and 5 [which=c(1:3,5)] are given\n",
    "par(mfrow=c(1,1))"
   ]
  },
  {
   "cell_type": "code",
   "execution_count": null,
   "metadata": {},
   "outputs": [],
   "source": [
    "anova(cars.poly)"
   ]
  },
  {
   "cell_type": "code",
   "execution_count": null,
   "metadata": {},
   "outputs": [],
   "source": [
    "# Confidence interval calculations\n",
    "SEb = summary(cars.poly)$coefficients[2, 2]\n",
    "coef(cars.poly)[2] + qt(c(0.025, 0.975), length(x))*SEb"
   ]
  },
  {
   "cell_type": "code",
   "execution_count": null,
   "metadata": {},
   "outputs": [],
   "source": [
    "# Obtain fitted values and standard errors (SE, then SE.OBS)\n",
    "fit.with.se = predict(cars.poly, se.fit=TRUE)"
   ]
  },
  {
   "cell_type": "code",
   "execution_count": null,
   "metadata": {},
   "outputs": [],
   "source": [
    "# SE : Standard error\n",
    "fit.with.se$se.fit"
   ]
  },
  {
   "cell_type": "code",
   "execution_count": null,
   "metadata": {},
   "outputs": [],
   "source": [
    "# SE.OBS : Precision of predicting an observation\n",
    "sqrt(fit.with.se$se.fit**2+fit.with.se$residual.scale**2)"
   ]
  },
  {
   "cell_type": "code",
   "execution_count": null,
   "metadata": {},
   "outputs": [],
   "source": [
    "quadratic = cars.poly$coefficient[3]*x**2 + cars.poly$coefficient[2]**x + cars.poly$coefficient[1]"
   ]
  },
  {
   "cell_type": "code",
   "execution_count": null,
   "metadata": {},
   "outputs": [],
   "source": [
    "# Plot sale price vs floor area, with 95\\% pointwise bounds for the fitted line\n",
    "plot(dist ~ speed, data=cars,\n",
    "     xlab = \"Speed\",\n",
    "     ylab = \"Stop distance\", pch = 16)\n",
    "\n",
    "lines(x, quadratic, lty = 2, col=\"red\")\n",
    "\n",
    "xy = data.frame(speed = pretty(cars$speed, 20))\n",
    "yhat = predict(cars.poly, newdata = xy, interval=\"confidence\")\n",
    "ci = data.frame(lower=yhat[, \"lwr\"], upper=yhat[, \"upr\"])\n",
    "lines(xy$speed, ci$lower, lty = 2, lwd=2, col=\"grey\")\n",
    "lines(xy$speed, ci$upper, lty = 2, lwd=2, col=\"grey\")"
   ]
  },
  {
   "cell_type": "code",
   "execution_count": null,
   "metadata": {},
   "outputs": [],
   "source": []
  }
 ],
 "metadata": {
  "kernelspec": {
   "display_name": "R",
   "language": "R",
   "name": "ir"
  },
  "language_info": {
   "codemirror_mode": "r",
   "file_extension": ".r",
   "mimetype": "text/x-r-source",
   "name": "R",
   "pygments_lexer": "r",
   "version": "4.0.3"
  }
 },
 "nbformat": 4,
 "nbformat_minor": 4
}
