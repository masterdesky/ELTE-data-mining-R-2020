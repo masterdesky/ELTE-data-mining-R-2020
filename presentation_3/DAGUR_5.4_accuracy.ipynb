{
 "cells": [
  {
   "cell_type": "markdown",
   "metadata": {},
   "source": [
    "# Data Mining in Physics - Presentation 3. - DAGUR 5.4: Assessing predictive accuracy\n",
    "\n",
    "Main goal examined in this section is how to minimize standard errors and confidence intervals of a regression model and thus increase its accuracy."
   ]
  },
  {
   "cell_type": "code",
   "execution_count": null,
   "metadata": {},
   "outputs": [],
   "source": [
    "library(microbenchmark)\n",
    "library(graphics)\n",
    "library(ggplot2)"
   ]
  },
  {
   "cell_type": "code",
   "execution_count": null,
   "metadata": {},
   "outputs": [],
   "source": [
    "options(jupyter.plot_scale=1.4)"
   ]
  },
  {
   "cell_type": "code",
   "execution_count": null,
   "metadata": {},
   "outputs": [],
   "source": [
    "library(lattice)\n",
    "library(DAAG)"
   ]
  },
  {
   "cell_type": "markdown",
   "metadata": {},
   "source": [
    "## 1. Linear fit the `DAAG::houseprices` dataset"
   ]
  },
  {
   "cell_type": "code",
   "execution_count": null,
   "metadata": {},
   "outputs": [],
   "source": [
    "# Fit linear model on `houseprices` dataset\n",
    "houseprices.lm = lm(sale.price ~ area, data=houseprices)\n",
    "# Print summary\n",
    "summary(houseprices.lm)"
   ]
  },
  {
   "cell_type": "code",
   "execution_count": null,
   "metadata": {},
   "outputs": [],
   "source": [
    "anova(houseprices.lm)"
   ]
  },
  {
   "cell_type": "code",
   "execution_count": null,
   "metadata": {},
   "outputs": [],
   "source": [
    "par(mfrow=c(2,2))\n",
    "\n",
    "plot(houseprices.lm, which=1:4)\n",
    "# By default, plots 1:3 and 5 [which=c(1:3,5)] are given\n",
    "par(mfrow=c(1,1))"
   ]
  },
  {
   "cell_type": "markdown",
   "metadata": {},
   "source": [
    "## 2. Plot confidence intervals"
   ]
  },
  {
   "cell_type": "code",
   "execution_count": null,
   "metadata": {},
   "outputs": [],
   "source": [
    "# Confidence interval calculations\n",
    "SEb = summary(houseprices.lm)$coefficients[2, 2]\n",
    "coef(houseprices.lm)[2] + qt(c(0.025, 0.975), 8)*SEb"
   ]
  },
  {
   "cell_type": "code",
   "execution_count": null,
   "metadata": {},
   "outputs": [],
   "source": [
    "# Obtain fitted values and standard errors (SE, then SE.OBS)\n",
    "fit.with.se = predict(houseprices.lm, se.fit=TRUE)"
   ]
  },
  {
   "cell_type": "code",
   "execution_count": null,
   "metadata": {},
   "outputs": [],
   "source": [
    "# SE : Standard error\n",
    "fit.with.se$se.fit"
   ]
  },
  {
   "cell_type": "code",
   "execution_count": null,
   "metadata": {},
   "outputs": [],
   "source": [
    "# SE.OBS : Precision of predicting an observation\n",
    "sqrt(fit.with.se$se.fit**2+fit.with.se$residual.scale**2)"
   ]
  },
  {
   "cell_type": "code",
   "execution_count": null,
   "metadata": {},
   "outputs": [],
   "source": [
    "# Plot sale price vs floor area, with 95\\% pointwise bounds for the fitted line\n",
    "plot(sale.price ~ area, data=houseprices,\n",
    "     xlab = \"Floor area [m^2]\",\n",
    "     ylab = \"Sale price [1000 USD]\", pch = 16)\n",
    "\n",
    "abline(houseprices.lm, lty = 2)\n",
    "\n",
    "xy = data.frame(area = pretty(houseprices$area, 20))\n",
    "yhat = predict(houseprices.lm, newdata = xy, interval=\"confidence\")\n",
    "ci = data.frame(lower=yhat[, \"lwr\"], upper=yhat[, \"upr\"])\n",
    "lines(xy$area, ci$lower, lty = 2, lwd=2, col=\"grey\")\n",
    "lines(xy$area, ci$upper, lty = 2, lwd=2, col=\"grey\")"
   ]
  },
  {
   "cell_type": "markdown",
   "metadata": {},
   "source": [
    "## 3. K-fold CV on `lm()` calculations\n",
    "\n",
    "<img src=\"./images/kfoldcv.png\" width=\"1200px\">"
   ]
  },
  {
   "cell_type": "code",
   "execution_count": null,
   "metadata": {},
   "outputs": [],
   "source": [
    "CVout = CVlm(houseprices, houseprices.lm, m=3, plotit=TRUE)"
   ]
  },
  {
   "cell_type": "markdown",
   "metadata": {},
   "source": [
    "### Calculate error of K-fold model\n",
    "\n",
    "The K-Fold error is even bigger, than in the naive case! Using bigger K values this can be even reversed. Eg. K=10 is a good choice for a bigger dataset."
   ]
  },
  {
   "cell_type": "code",
   "execution_count": null,
   "metadata": {},
   "outputs": [],
   "source": [
    "# From model\n",
    "summary(houseprices.lm)$sigma**2\n",
    "\n",
    "# From K-fold CV\n",
    "(8684 + 14083 + 26421) / 15"
   ]
  },
  {
   "cell_type": "markdown",
   "metadata": {},
   "source": [
    "## 4. Bootstrapping"
   ]
  },
  {
   "cell_type": "code",
   "execution_count": null,
   "metadata": {},
   "outputs": [],
   "source": [
    "library(boot)"
   ]
  },
  {
   "cell_type": "markdown",
   "metadata": {},
   "source": [
    "### a.) Compute standard errors of slope"
   ]
  },
  {
   "cell_type": "code",
   "execution_count": null,
   "metadata": {},
   "outputs": [],
   "source": [
    "houseprices.fn = function (houseprices, index){\n",
    "\n",
    "    # Randomly resample data\n",
    "    house.resample = houseprices[index, ]\n",
    "    # Fit linear model on the new dataset\n",
    "    house.lm = lm(sale.price ~ area, data=house.resample)\n",
    "    # Return the slope coefficient of the fit\n",
    "    coef(house.lm)[2]\n",
    "}"
   ]
  },
  {
   "cell_type": "code",
   "execution_count": null,
   "metadata": {},
   "outputs": [],
   "source": [
    "houseprices.boot = boot(houseprices, R=999, statistic=houseprices.fn)"
   ]
  },
  {
   "cell_type": "code",
   "execution_count": null,
   "metadata": {},
   "outputs": [],
   "source": [
    "houseprices.boot"
   ]
  },
  {
   "cell_type": "markdown",
   "metadata": {},
   "source": [
    "### b.) Compute confidence intervals"
   ]
  },
  {
   "cell_type": "code",
   "execution_count": null,
   "metadata": {},
   "outputs": [],
   "source": [
    "housepred.fn = function(houseprices, index){\n",
    "\n",
    "    # Randomly resample data\n",
    "    house.resample = houseprices[index, ]\n",
    "    # Fit linear model on the new dataset\n",
    "    house.lm = lm(sale.price ~ area, data=house.resample)\n",
    "    # The last one is the bootstrapped statistics\n",
    "    predict(house.lm, newdata=data.frame(area=1200))\n",
    "}"
   ]
  },
  {
   "cell_type": "code",
   "execution_count": null,
   "metadata": {},
   "outputs": [],
   "source": [
    "housepred.boot = boot(houseprices, R=999, statistic=housepred.fn)"
   ]
  },
  {
   "cell_type": "code",
   "execution_count": null,
   "metadata": {},
   "outputs": [],
   "source": [
    "# 95% CI for predicted price of 1200 square foot house\n",
    "boot.ci(housepred.boot, type=\"perc\")"
   ]
  },
  {
   "cell_type": "markdown",
   "metadata": {},
   "source": [
    "### c.) Bootstrap estimates of prediction errors of house prices"
   ]
  },
  {
   "cell_type": "code",
   "execution_count": null,
   "metadata": {},
   "outputs": [],
   "source": [
    "houseprices2.fn = function (houseprices, index)\n",
    "{\n",
    "    house.resample = houseprices[index, ]\n",
    "    house.lm = lm(sale.price ~ area, data=house.resample)\n",
    "    houseprices$sale.price - predict(house.lm, houseprices) # resampled prediction\n",
    "                                                            # errors\n",
    "}"
   ]
  },
  {
   "cell_type": "code",
   "execution_count": null,
   "metadata": {},
   "outputs": [],
   "source": [
    "n = length(houseprices$area)\n",
    "R = 200\n",
    "houseprices2.boot = boot(houseprices, R=R, statistic=houseprices2.fn)\n",
    "house.fac = factor(rep(1:n, rep(R, n)))"
   ]
  },
  {
   "cell_type": "code",
   "execution_count": null,
   "metadata": {},
   "outputs": [],
   "source": [
    "plot(house.fac, as.vector(houseprices2.boot$t),\n",
    "     ylab=\"Prediction Errors\",\n",
    "     xlab=\"House\")\n",
    "## Ratios of bootstrap to model-based standard errors\n",
    "bootse = apply(houseprices2.boot$t, 2, sd)\n",
    "usualse = predict.lm(houseprices.lm, se.fit=TRUE)$se.fit\n",
    "plot(bootse/usualse,\n",
    "     ylab=\"Ratio of Bootstrap SE’s to Model-Based SE’s\",\n",
    "     xlab=\"House\", pch=16)\n",
    "abline(1, 0)"
   ]
  },
  {
   "cell_type": "code",
   "execution_count": null,
   "metadata": {},
   "outputs": [],
   "source": []
  }
 ],
 "metadata": {
  "kernelspec": {
   "display_name": "R",
   "language": "R",
   "name": "ir"
  },
  "language_info": {
   "codemirror_mode": "r",
   "file_extension": ".r",
   "mimetype": "text/x-r-source",
   "name": "R",
   "pygments_lexer": "r",
   "version": "4.0.3"
  }
 },
 "nbformat": 4,
 "nbformat_minor": 4
}
