{
 "cells": [
  {
   "cell_type": "markdown",
   "metadata": {},
   "source": [
    "# Data Mining in Physics - Presentation 2. - DAGUR 5.2: Outliers, influence, and robust regression"
   ]
  },
  {
   "cell_type": "code",
   "execution_count": null,
   "metadata": {},
   "outputs": [],
   "source": [
    "library(microbenchmark)\n",
    "library(graphics)\n",
    "library(ggplot2)"
   ]
  },
  {
   "cell_type": "code",
   "execution_count": null,
   "metadata": {},
   "outputs": [],
   "source": [
    "options(jupyter.plot_scale=1.4)"
   ]
  },
  {
   "cell_type": "markdown",
   "metadata": {},
   "source": [
    "## 1. Fit a linear modell to the data"
   ]
  },
  {
   "cell_type": "code",
   "execution_count": null,
   "metadata": {},
   "outputs": [],
   "source": [
    "library(lattice)\n",
    "library(DAAG)"
   ]
  },
  {
   "cell_type": "code",
   "execution_count": null,
   "metadata": {},
   "outputs": [],
   "source": [
    "# Export the `roller` dataset from DAAG\n",
    "df = DAAG::softbacks\n",
    "# Extract X and y data\n",
    "x = df$volume\n",
    "y = df$weight"
   ]
  },
  {
   "cell_type": "code",
   "execution_count": null,
   "metadata": {},
   "outputs": [],
   "source": [
    "head(df)"
   ]
  },
  {
   "cell_type": "code",
   "execution_count": null,
   "metadata": {},
   "outputs": [],
   "source": [
    "softbacks.lm <- lm(weight ~ volume, data=softbacks)\n",
    "summary(softbacks.lm)"
   ]
  },
  {
   "cell_type": "code",
   "execution_count": null,
   "metadata": {},
   "outputs": [],
   "source": [
    "# Extract coefficients of fit\n",
    "b = softbacks.lm$coefficients[1]\n",
    "m = softbacks.lm$coefficients[2]"
   ]
  },
  {
   "cell_type": "code",
   "execution_count": null,
   "metadata": {},
   "outputs": [],
   "source": [
    "mar = 0.2\n",
    "par(bg='black', fig=c(0, 1, 0, 1),\n",
    "    omi=c(mar,mar,mar,mar))\n",
    "\n",
    "plot(x, y,\n",
    "     xaxt='n', yaxt='n',\n",
    "     ann=FALSE, type='n')\n",
    "\n",
    "box(col=gray(0.8))\n",
    "\n",
    "points(x, y,\n",
    "       col='red', lwd=12)\n",
    "# Fitted line\n",
    "abline(softbacks.lm,\n",
    "       col='green', lty=2, lwd=3)\n",
    "\n",
    "grid(nx=NULL, ny=NULL, lty=3, col=grey(0.6))\n",
    "\n",
    "axis(1, col=gray(0.8), col.ticks=gray(0.8), col.axis=gray(0.8), cex.axis=1.5)\n",
    "axis(2, col=gray(0.8), col.ticks=gray(0.8), col.axis=gray(0.8), cex.axis=1.5)\n",
    "\n",
    "title(main='The DAAG::softbacks dataset',\n",
    "      col.main='lightgoldenrodyellow', cex.main=1.8, font.main=2) \n",
    "title(xlab='Volume [cc]', ylab='Weight [g]',\n",
    "      col.lab='white', cex.lab=1.5, font.lab=2)"
   ]
  },
  {
   "cell_type": "markdown",
   "metadata": {},
   "source": [
    "## 2. Diagnostic plots\n",
    "\n",
    "- Upper left : Residuals with the smoothed lowess curve\n",
    "- Upper right :  \n",
    "- Lower left : Checks the trend of the variance\n",
    "- Lower right : "
   ]
  },
  {
   "cell_type": "code",
   "execution_count": null,
   "metadata": {},
   "outputs": [],
   "source": [
    "par(mfrow=c(2,2))\n",
    "\n",
    "plot(softbacks.lm, which=1:4)\n",
    "# By default, plots 1:3 and 5 [which=c(1:3,5)] are given\n",
    "par(mfrow=c(1,1))"
   ]
  },
  {
   "cell_type": "markdown",
   "metadata": {},
   "source": [
    "## 3. ANOVA"
   ]
  },
  {
   "cell_type": "code",
   "execution_count": null,
   "metadata": {},
   "outputs": [],
   "source": [
    "anova(softbacks.lm)"
   ]
  },
  {
   "cell_type": "code",
   "execution_count": null,
   "metadata": {},
   "outputs": [],
   "source": []
  }
 ],
 "metadata": {
  "kernelspec": {
   "display_name": "R",
   "language": "R",
   "name": "ir"
  },
  "language_info": {
   "codemirror_mode": "r",
   "file_extension": ".r",
   "mimetype": "text/x-r-source",
   "name": "R",
   "pygments_lexer": "r",
   "version": "4.0.3"
  }
 },
 "nbformat": 4,
 "nbformat_minor": 4
}
