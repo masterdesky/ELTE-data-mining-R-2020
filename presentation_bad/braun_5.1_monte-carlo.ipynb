{
 "cells": [
  {
   "cell_type": "markdown",
   "metadata": {},
   "source": [
    "# Data Mining in Physics - Presentation 2. - Braun 5.1: Monte-Carlo simulations"
   ]
  },
  {
   "cell_type": "code",
   "execution_count": null,
   "metadata": {},
   "outputs": [],
   "source": [
    "library(microbenchmark)\n",
    "library(graphics)\n",
    "library(ggplot2)"
   ]
  },
  {
   "cell_type": "code",
   "execution_count": null,
   "metadata": {},
   "outputs": [],
   "source": [
    "options(jupyter.plot_scale=1.4)"
   ]
  },
  {
   "cell_type": "markdown",
   "metadata": {},
   "source": [
    "## 1. Expected value of dice rolls"
   ]
  },
  {
   "cell_type": "code",
   "execution_count": null,
   "metadata": {},
   "outputs": [],
   "source": [
    "set.seed(1)"
   ]
  },
  {
   "cell_type": "code",
   "execution_count": null,
   "metadata": {},
   "outputs": [],
   "source": [
    "roll_dice <- function(N) {\n",
    "    \n",
    "    x = sample(1:6, N, replace=TRUE)\n",
    "    \n",
    "    return(mean(x))\n",
    "}"
   ]
  },
  {
   "cell_type": "code",
   "execution_count": null,
   "metadata": {},
   "outputs": [],
   "source": [
    "# Roll dices for N times and calculate mean of rolls\n",
    "# Repeat for different N values sequentially\n",
    "n = 5000\n",
    "x = 1:n\n",
    "# \n",
    "means = lapply(x, roll_dice)"
   ]
  },
  {
   "cell_type": "code",
   "execution_count": null,
   "metadata": {},
   "outputs": [],
   "source": [
    "mar = 0.2\n",
    "par(bg='black', fig=c(0, 1, 0, 1),\n",
    "    omi=c(mar,mar,mar,mar))\n",
    "\n",
    "plot(x, means,\n",
    "     xaxt='n', yaxt='n',\n",
    "     ylim=c(3,4),\n",
    "     ann=FALSE, type='n')\n",
    "\n",
    "box(col=gray(0.8))\n",
    "\n",
    "lines(x, means, col=gray(0.8))\n",
    "abline(h=3.5, col='red', lwd=2)\n",
    "\n",
    "grid(nx=NULL, ny=NULL, lty=3, col=grey(0.6))\n",
    "\n",
    "axis(1, col=gray(0.8), col.ticks=gray(0.8), col.axis=gray(0.8), cex.axis=1.5)\n",
    "axis(2, col=gray(0.8), col.ticks=gray(0.8), col.axis=gray(0.8), cex.axis=1.5)\n",
    "\n",
    "title(main='Change in mean of rolls',\n",
    "      col.main='lightgoldenrodyellow', cex.main=1.8, font.main=2) \n",
    "title(xlab='Dice rolls', ylab='Mean of rolls',\n",
    "      col.lab='white', cex.lab=1.5, font.lab=2)"
   ]
  },
  {
   "cell_type": "markdown",
   "metadata": {},
   "source": [
    "## 2. Approximating $\\pi$"
   ]
  },
  {
   "cell_type": "code",
   "execution_count": null,
   "metadata": {},
   "outputs": [],
   "source": [
    "generate_pi_df <- function(N, R) {\n",
    "    #\n",
    "    #Creates a set of coordinates with uniform distribution.\n",
    "    #\n",
    "    \n",
    "    # Generate coordinates\n",
    "    x = runif(N, 0, R)\n",
    "    y = runif(N, 0, R)\n",
    "    # Distance from (0,0)\n",
    "    r = sqrt(x**2 + y**2)\n",
    "    # The proportion of the # of points in the\n",
    "    # inside and the outside\n",
    "    mask = r <= R\n",
    "    prop = 4 * cumsum(mask)/(1:N)\n",
    "    # Mean of the proportions\n",
    "    # This is the actual approximation for pi\n",
    "    mean = cumsum(prop) / seq_along(prop)\n",
    "    \n",
    "    # Define DataFrame for coordinates\n",
    "    df = data.frame(x=x,\n",
    "                    y=y,\n",
    "                    r=r,\n",
    "                    prop=prop,\n",
    "                    mean=mean)\n",
    "    \n",
    "    return(df)\n",
    "}"
   ]
  },
  {
   "cell_type": "markdown",
   "metadata": {},
   "source": [
    "### Benchamark `add_to_df` before running it too much"
   ]
  },
  {
   "cell_type": "code",
   "execution_count": null,
   "metadata": {},
   "outputs": [],
   "source": [
    "mb = microbenchmark(\n",
    "    generate_pi_df(N=1000, R=1),\n",
    "    times = 10000\n",
    ")"
   ]
  },
  {
   "cell_type": "code",
   "execution_count": null,
   "metadata": {},
   "outputs": [],
   "source": [
    "autoplot(mb)"
   ]
  },
  {
   "cell_type": "markdown",
   "metadata": {},
   "source": [
    "### Generate random points"
   ]
  },
  {
   "cell_type": "code",
   "execution_count": null,
   "metadata": {},
   "outputs": [],
   "source": [
    "N = 3e03\n",
    "R = 1\n",
    "\n",
    "df = generate_pi_df(N=N, R=R)\n",
    "print(sprintf(\"Approximation for pi : %.5f\", tail(df$mean, 1)))"
   ]
  },
  {
   "cell_type": "code",
   "execution_count": null,
   "metadata": {},
   "outputs": [],
   "source": [
    "mar = 0.2\n",
    "par(bg='ghostwhite', fig=c(0, 1, 0, 1),\n",
    "    omi=c(mar,mar,mar,mar))\n",
    "\n",
    "plot(df$x, df$y, \n",
    "     xaxt='n', yaxt='n',\n",
    "     ann=FALSE, type='n')\n",
    "\n",
    "ax_col = gray(0.4)\n",
    "tick_col = gray(0.1)\n",
    "box(col=ax_col)\n",
    "\n",
    "points(df$x[df$r <= R], df$y[df$r <= R], col='blue')\n",
    "points(df$x[df$r > R], df$y[df$r > R], col='red')\n",
    "\n",
    "grid(nx=NULL, ny=NULL, lty=3, col=grey(0.2))\n",
    "\n",
    "axis(1, col=ax_col, col.ticks=ax_col, col.axis=tick_col, cex.axis=1.5)\n",
    "axis(2, col=ax_col, col.ticks=ax_col, col.axis=tick_col, cex.axis=1.5)\n",
    "\n",
    "title(main=sprintf('Random points scattered\\nPi. approx = %.3f', tail(df$mean, 1)),\n",
    "      col.main='black', cex.main=1.8, font.main=2,\n",
    "      xlab='X coordinates', ylab='Y coordinates',\n",
    "      col.lab='black', cex.lab=1.5, font.lab=2)"
   ]
  },
  {
   "cell_type": "code",
   "execution_count": null,
   "metadata": {},
   "outputs": [],
   "source": [
    "mar = 0.2\n",
    "par(bg='black', fig=c(0, 1, 0, 1),\n",
    "    omi=c(mar,mar,mar,mar))\n",
    "\n",
    "plot(1:N, df$prop,\n",
    "     xaxt='n', yaxt='n',\n",
    "     ylim=c(2.1,4.1),\n",
    "     ann=FALSE, type='n')\n",
    "\n",
    "box(col=gray(0.8))\n",
    "\n",
    "lines(1:N, df$prop, col=gray(0.8))\n",
    "abline(h=tail(df$mean, 1), col='green', lwd=2)\n",
    "abline(h=3.14159265358979323, col='red', lwd=2)\n",
    "\n",
    "grid(nx=NULL, ny=NULL, lty=3, col=grey(0.6))\n",
    "\n",
    "axis(1, col=gray(0.8), col.ticks=gray(0.8), col.axis=gray(0.8), cex.axis=1.5)\n",
    "axis(2, col=gray(0.8), col.ticks=gray(0.8), col.axis=gray(0.8), cex.axis=1.5)\n",
    "\n",
    "legend(\"topright\", legend=c('approximation', 'true value'), lty=c(1,1), lwd=c(2,2),\n",
    "       col=c('green', 'red'), text.col='white')\n",
    "\n",
    "title(main=sprintf('Approximation of pi = %.4f', tail(df$mean, 1)),\n",
    "      col.main='lightgoldenrodyellow', cex.main=1.8, font.main=2) \n",
    "title(xlab='Number of random points', ylab='Pi approximation',\n",
    "      col.lab='white', cex.lab=1.5, font.lab=2)"
   ]
  },
  {
   "cell_type": "code",
   "execution_count": null,
   "metadata": {},
   "outputs": [],
   "source": []
  },
  {
   "cell_type": "code",
   "execution_count": null,
   "metadata": {},
   "outputs": [],
   "source": []
  }
 ],
 "metadata": {
  "kernelspec": {
   "display_name": "R",
   "language": "R",
   "name": "ir"
  },
  "language_info": {
   "codemirror_mode": "r",
   "file_extension": ".r",
   "mimetype": "text/x-r-source",
   "name": "R",
   "pygments_lexer": "r",
   "version": "4.0.3"
  }
 },
 "nbformat": 4,
 "nbformat_minor": 4
}
