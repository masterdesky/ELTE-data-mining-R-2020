{
 "cells": [
  {
   "cell_type": "markdown",
   "metadata": {},
   "source": [
    "# Data Mining in Physics - Presentation 2. - DAGUR 5.1: Fitting a line to data"
   ]
  },
  {
   "cell_type": "code",
   "execution_count": null,
   "metadata": {},
   "outputs": [],
   "source": [
    "library(microbenchmark)\n",
    "library(graphics)\n",
    "library(ggplot2)"
   ]
  },
  {
   "cell_type": "code",
   "execution_count": null,
   "metadata": {},
   "outputs": [],
   "source": [
    "options(jupyter.plot_scale=1.4)"
   ]
  },
  {
   "cell_type": "markdown",
   "metadata": {},
   "source": [
    "## 1. Basics of linear fitting"
   ]
  },
  {
   "cell_type": "code",
   "execution_count": null,
   "metadata": {},
   "outputs": [],
   "source": [
    "library(lattice)\n",
    "library(DAAG)"
   ]
  },
  {
   "cell_type": "code",
   "execution_count": null,
   "metadata": {},
   "outputs": [],
   "source": [
    "# Export the `roller` dataset from DAAG\n",
    "df = DAAG::roller\n",
    "# Extract X and y data\n",
    "x = df$weight\n",
    "y = df$depression"
   ]
  },
  {
   "cell_type": "code",
   "execution_count": null,
   "metadata": {},
   "outputs": [],
   "source": [
    "head(df)"
   ]
  },
  {
   "cell_type": "code",
   "execution_count": null,
   "metadata": {},
   "outputs": [],
   "source": [
    "mar = 0.2\n",
    "par(bg='black', fig=c(0, 1, 0, 1),\n",
    "    omi=c(mar,mar,mar,mar))\n",
    "\n",
    "plot(x, y,\n",
    "     xaxt='n', yaxt='n',\n",
    "     ann=FALSE, type='n')\n",
    "\n",
    "box(col=gray(0.8))\n",
    "\n",
    "points(x, y,\n",
    "       col='red', lwd=12)\n",
    "\n",
    "grid(nx=NULL, ny=NULL, lty=3, col=grey(0.6))\n",
    "\n",
    "axis(1, col=gray(0.8), col.ticks=gray(0.8), col.axis=gray(0.8), cex.axis=1.5)\n",
    "axis(2, col=gray(0.8), col.ticks=gray(0.8), col.axis=gray(0.8), cex.axis=1.5)\n",
    "\n",
    "title(main='The DAAG::roller dataset',\n",
    "      col.main='lightgoldenrodyellow', cex.main=1.8, font.main=2) \n",
    "title(xlab='Weight of Roller [t]', ylab='Depression in Lawn [mm]',\n",
    "      col.lab='white', cex.lab=1.5, font.lab=2)"
   ]
  },
  {
   "cell_type": "markdown",
   "metadata": {},
   "source": [
    "## 2. Fit a linear modell to the data"
   ]
  },
  {
   "cell_type": "code",
   "execution_count": null,
   "metadata": {},
   "outputs": [],
   "source": [
    "# Fit linear model to the weight(depression) values\n",
    "roller.lm = lm(formula=depression ~ weight, data=df)\n",
    "# Use the extractor function summary() to summarize results\n",
    "summary(roller.lm)"
   ]
  },
  {
   "cell_type": "markdown",
   "metadata": {},
   "source": [
    "### 2.1. Plot fitted line"
   ]
  },
  {
   "cell_type": "code",
   "execution_count": null,
   "metadata": {},
   "outputs": [],
   "source": [
    "# Extract coefficients of fit\n",
    "b = roller.lm$coefficients[1]\n",
    "m = roller.lm$coefficients[2]"
   ]
  },
  {
   "cell_type": "code",
   "execution_count": null,
   "metadata": {},
   "outputs": [],
   "source": [
    "mar = 0.2\n",
    "par(bg='black', fig=c(0, 1, 0, 1),\n",
    "    omi=c(mar,mar,mar,mar))\n",
    "\n",
    "plot(x, y,\n",
    "     xaxt='n', yaxt='n',\n",
    "     ann=FALSE, type='n')\n",
    "\n",
    "box(col=gray(0.8))\n",
    "\n",
    "points(x, y,\n",
    "       col='red', lwd=12)\n",
    "# Fitted line\n",
    "abline(roller.lm,\n",
    "       col='green', lty=2, lwd=3)\n",
    "\n",
    "grid(nx=NULL, ny=NULL, lty=3, col=grey(0.6))\n",
    "\n",
    "axis(1, col=gray(0.8), col.ticks=gray(0.8), col.axis=gray(0.8), cex.axis=1.5)\n",
    "axis(2, col=gray(0.8), col.ticks=gray(0.8), col.axis=gray(0.8), cex.axis=1.5)\n",
    "\n",
    "legend(2, 30, legend=c('Datapoints', 'Fitted line'),\n",
    "       lty=c(1,2), lwd=c(2,2), \n",
    "       col=c('red', 'green'), text.col='white')\n",
    "\n",
    "title(main='Linear fit on the DAAG::roller dataset',\n",
    "      col.main='lightgoldenrodyellow', cex.main=1.8, font.main=2) \n",
    "title(xlab='Weight of Roller [t]', ylab='Depression in Lawn [mm]',\n",
    "      col.lab='white', cex.lab=1.5, font.lab=2)"
   ]
  },
  {
   "cell_type": "markdown",
   "metadata": {},
   "source": [
    "### 2.2. Diagnostic plots"
   ]
  },
  {
   "cell_type": "code",
   "execution_count": null,
   "metadata": {},
   "outputs": [],
   "source": [
    "## A: Plot residuals vs fitted values; B: normal probability plot\n",
    "plot(roller.lm, which = 1:2)"
   ]
  },
  {
   "cell_type": "markdown",
   "metadata": {},
   "source": [
    "### 2.3. Plot residuals"
   ]
  },
  {
   "cell_type": "code",
   "execution_count": null,
   "metadata": {},
   "outputs": [],
   "source": [
    "r = roller.lm$residuals"
   ]
  },
  {
   "cell_type": "code",
   "execution_count": null,
   "metadata": {},
   "outputs": [],
   "source": [
    "mar = 0.2\n",
    "par(bg='black', fig=c(0, 1, 0, 1),\n",
    "    omi=c(mar,mar,mar,mar))\n",
    "\n",
    "plot(x, r,\n",
    "     xaxt='n', yaxt='n',\n",
    "     ann=FALSE, type='n')\n",
    "\n",
    "for (i in 1:length(roller.lm$residuals)) {\n",
    "    lines(x=c(x[i], x[i]), y=c(0, r[i]),\n",
    "          col=gray(0.8), lty=2, lwd=2)\n",
    "}\n",
    "\n",
    "box(col=gray(0.8))\n",
    "\n",
    "points(x, r,\n",
    "       col='red', pch=4, lwd=5)\n",
    "\n",
    "abline(h = 0,\n",
    "       col='green', lty=2, lwd=3)\n",
    "\n",
    "grid(nx=NULL, ny=NULL, lty=3, col=grey(0.6))\n",
    "\n",
    "axis(1, col=gray(0.8), col.ticks=gray(0.8), col.axis=gray(0.8), cex.axis=1.5)\n",
    "axis(2, col=gray(0.8), col.ticks=gray(0.8), col.axis=gray(0.8), cex.axis=1.5)\n",
    "\n",
    "title(main='Residuals of the linear fit on\\nthe DAAG::roller dataset',\n",
    "      col.main='lightgoldenrodyellow', cex.main=1.8, font.main=2) \n",
    "title(xlab='Weight of Roller [t]', ylab='Residuals [t]',\n",
    "      col.lab='white', cex.lab=1.5, font.lab=2)"
   ]
  },
  {
   "cell_type": "markdown",
   "metadata": {},
   "source": [
    "## 3. ANOVA table"
   ]
  },
  {
   "cell_type": "code",
   "execution_count": null,
   "metadata": {},
   "outputs": [],
   "source": [
    "anov = anova(roller.lm)\n",
    "anov"
   ]
  },
  {
   "cell_type": "markdown",
   "metadata": {},
   "source": [
    "#### Calculate $R^{2}$ and adjusted $R^{2}$ (coefficient of determination)"
   ]
  },
  {
   "cell_type": "code",
   "execution_count": null,
   "metadata": {},
   "outputs": [],
   "source": [
    "anov$`Sum Sq`[2] / anov$`Sum Sq`[1]"
   ]
  },
  {
   "cell_type": "code",
   "execution_count": null,
   "metadata": {},
   "outputs": [],
   "source": [
    "1 - anov$`Sum Sq`[2] / anov$`Sum Sq`[1]"
   ]
  }
 ],
 "metadata": {
  "kernelspec": {
   "display_name": "R",
   "language": "R",
   "name": "ir"
  },
  "language_info": {
   "codemirror_mode": "r",
   "file_extension": ".r",
   "mimetype": "text/x-r-source",
   "name": "R",
   "pygments_lexer": "r",
   "version": "4.0.3"
  }
 },
 "nbformat": 4,
 "nbformat_minor": 4
}
