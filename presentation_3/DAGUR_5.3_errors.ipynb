{
 "cells": [
  {
   "cell_type": "markdown",
   "metadata": {},
   "source": [
    "# Data Mining in Physics - Presentation 3. - DAGUR 5.3: Standard errors and confidence intervals"
   ]
  },
  {
   "cell_type": "code",
   "execution_count": null,
   "metadata": {},
   "outputs": [],
   "source": [
    "library(microbenchmark)\n",
    "library(graphics)\n",
    "library(ggplot2)"
   ]
  },
  {
   "cell_type": "code",
   "execution_count": null,
   "metadata": {},
   "outputs": [],
   "source": [
    "options(jupyter.plot_scale=1.4)"
   ]
  },
  {
   "cell_type": "markdown",
   "metadata": {},
   "source": [
    "## 1. Load and fit the `DAAG::roller` dataset again"
   ]
  },
  {
   "cell_type": "code",
   "execution_count": null,
   "metadata": {},
   "outputs": [],
   "source": [
    "library(lattice)\n",
    "library(DAAG)"
   ]
  },
  {
   "cell_type": "code",
   "execution_count": null,
   "metadata": {},
   "outputs": [],
   "source": [
    "# Export the `roller` dataset from DAAG\n",
    "df = DAAG::roller\n",
    "# Extract X and y data\n",
    "x = df$weight\n",
    "y = df$depression"
   ]
  },
  {
   "cell_type": "code",
   "execution_count": null,
   "metadata": {},
   "outputs": [],
   "source": [
    "# Fit linear model to the weight(depression) values\n",
    "roller.lm = lm(depression ~ weight, data=df)\n",
    "# Use the extractor function summary() to summarize results\n",
    "summary(roller.lm)"
   ]
  },
  {
   "cell_type": "markdown",
   "metadata": {},
   "source": [
    "## 2. Calculate confidence interval\n",
    "\n",
    "In case of linear regression:\n",
    "\\begin{equation}\n",
    "L_{\\mathrm{conf}}\n",
    "=\n",
    "b \\pm t_{97.5\\%} \\sigma_{b}\n",
    "\\end{equation}\n",
    "- $b$ : intercept \n",
    "- $t_{97.5\\%}$ : $97.5\\%$ of values of the t-distribution\n",
    "- $\\sigma_{b}$ : standard error of intercept at a given point"
   ]
  },
  {
   "cell_type": "code",
   "execution_count": null,
   "metadata": {},
   "outputs": [],
   "source": [
    "# Confidence interval calculations\n",
    "SEb = summary(roller.lm)$coefficients[2, 2]\n",
    "coef(roller.lm)[2] + qt(c(0.025, 0.975), 8)*SEb"
   ]
  },
  {
   "cell_type": "code",
   "execution_count": null,
   "metadata": {},
   "outputs": [],
   "source": [
    "# Obtain fitted values and standard errors (SE, then SE.OBS)\n",
    "fit.with.se = predict(roller.lm, se.fit=TRUE)"
   ]
  },
  {
   "cell_type": "code",
   "execution_count": null,
   "metadata": {},
   "outputs": [],
   "source": [
    "# SE : Standard error\n",
    "fit.with.se$se.fit"
   ]
  },
  {
   "cell_type": "code",
   "execution_count": null,
   "metadata": {},
   "outputs": [],
   "source": [
    "# SE.OBS : Precision of predicting an observation\n",
    "sqrt(fit.with.se$se.fit**2+fit.with.se$residual.scale**2)"
   ]
  },
  {
   "cell_type": "code",
   "execution_count": null,
   "metadata": {},
   "outputs": [],
   "source": [
    "## Plot depression vs weight, with 95\\% pointwise bounds for the fitted line\n",
    "plot(depression ~ weight, data=roller,\n",
    "     xlab = \"Weight of Roller [t]\",\n",
    "     ylab = \"Depression in Lawn [mm]\", pch = 16)\n",
    "\n",
    "abline(roller.lm$coef, lty = 1)\n",
    "\n",
    "xy = data.frame(weight = pretty(roller$weight, 20))\n",
    "yhat = predict(roller.lm, newdata = xy, interval=\"confidence\")\n",
    "ci = data.frame(lower=yhat[, \"lwr\"], upper=yhat[, \"upr\"])\n",
    "lines(xy$weight, ci$lower, lty = 2, lwd=2, col=\"grey\")\n",
    "lines(xy$weight, ci$upper, lty = 2, lwd=2, col=\"grey\")"
   ]
  },
  {
   "cell_type": "code",
   "execution_count": null,
   "metadata": {},
   "outputs": [],
   "source": []
  }
 ],
 "metadata": {
  "kernelspec": {
   "display_name": "R",
   "language": "R",
   "name": "ir"
  },
  "language_info": {
   "codemirror_mode": "r",
   "file_extension": ".r",
   "mimetype": "text/x-r-source",
   "name": "R",
   "pygments_lexer": "r",
   "version": "4.0.3"
  }
 },
 "nbformat": 4,
 "nbformat_minor": 4
}
